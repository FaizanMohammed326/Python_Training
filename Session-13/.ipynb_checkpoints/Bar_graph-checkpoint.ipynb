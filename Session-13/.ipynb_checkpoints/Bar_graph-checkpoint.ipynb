{
 "cells": [
  {
   "cell_type": "code",
   "execution_count": 2,
   "id": "ad855cf7",
   "metadata": {},
   "outputs": [
    {
     "data": {
      "image/png": "[encoded data removed]",
      "text/plain": [
       "<Figure size 432x288 with 1 Axes>"
      ]
     },
     "metadata": {
      "needs_background": "light"
     },
     "output_type": "display_data"
    }
   ],
   "source": [
    "\"\"\"\n",
    "Bar Graphs:\n",
    "    With Pyplot, you can use the bar() function to draw bar graphs:\n",
    "\"\"\"\n",
    "from matplotlib import pyplot as plt\n",
    "\n",
    "x = [\"A\", \"B\", \"C\", \"D\"]\n",
    "y = [13, 8, 4, 6]\n",
    "\n",
    "plt.bar(x,y)\n",
    "plt.show()"
   ]
  },
  {
   "cell_type": "code",
   "execution_count": null,
   "id": "8a1b40cd",
   "metadata": {},
   "outputs": [],
   "source": [
    "\"\"\"\n",
    "If you want the bars to be displayed horizontally instead of vertically, use the barh() function:\n",
    "\"\"\""
   ]
  }
 ],
 "metadata": {
  "kernelspec": {
   "display_name": "Python 3 (ipykernel)",
   "language": "python",
   "name": "python3"
  },
  "language_info": {
   "codemirror_mode": {
    "name": "ipython",
    "version": 3
   },
   "file_extension": ".py",
   "mimetype": "text/x-python",
   "name": "python",
   "nbconvert_exporter": "python",
   "pygments_lexer": "ipython3",
   "version": "3.10.0"
  }
 },
 "nbformat": 4,
 "nbformat_minor": 5
}
